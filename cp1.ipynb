{
 "cells": [
  {
   "cell_type": "code",
   "execution_count": 1,
   "metadata": {},
   "outputs": [],
   "source": [
    "from numpy import *"
   ]
  },
  {
   "cell_type": "markdown",
   "metadata": {},
   "source": [
    "4*4的随机数组"
   ]
  },
  {
   "cell_type": "code",
   "execution_count": 2,
   "metadata": {},
   "outputs": [],
   "source": [
    "random.rand(4,4)"
   ]
  },
  {
   "cell_type": "markdown",
   "metadata": {},
   "source": [
    "数组转换为矩阵"
   ]
  },
  {
   "cell_type": "code",
   "execution_count": 6,
   "metadata": {},
   "outputs": [
    {
     "data": {
      "text/plain": [
       "matrix([[0.81713114, 0.3862322 , 0.66778569, 0.00646356],\n",
       "        [0.8714868 , 0.2641668 , 0.67485315, 0.93028844],\n",
       "        [0.31749213, 0.35582996, 0.96677695, 0.44561322],\n",
       "        [0.92282937, 0.68986233, 0.14080474, 0.88762778]])"
      ]
     },
     "execution_count": 6,
     "metadata": {},
     "output_type": "execute_result"
    }
   ],
   "source": [
    "rand_mat=mat(random.rand(4,4))\n",
    "rand_mat"
   ]
  },
  {
   "cell_type": "markdown",
   "metadata": {},
   "source": [
    "矩阵求逆"
   ]
  },
  {
   "cell_type": "code",
   "execution_count": 7,
   "metadata": {},
   "outputs": [
    {
     "data": {
      "text/plain": [
       "matrix([[ 1.09780055,  0.88435413, -1.33722537, -0.26352806],\n",
       "        [-0.02341648, -2.1719871 ,  1.29547489,  1.6261829 ],\n",
       "        [ 0.17885985,  0.16691141,  0.88465986, -0.62035909],\n",
       "        [-1.15151055,  0.7421604 ,  0.243083  ,  0.23511952]])"
      ]
     },
     "execution_count": 7,
     "metadata": {},
     "output_type": "execute_result"
    }
   ],
   "source": [
    "inv_rand_mat=rand_mat.I\n",
    "inv_rand_mat"
   ]
  },
  {
   "cell_type": "code",
   "execution_count": 8,
   "metadata": {},
   "outputs": [
    {
     "data": {
      "text/plain": [
       "matrix([[ 1.00000000e+00, -5.70411697e-17,  1.02151262e-16,\n",
       "          8.25460785e-17],\n",
       "        [-2.01325111e-16,  1.00000000e+00, -2.79074668e-17,\n",
       "          7.02431385e-17],\n",
       "        [-2.72513585e-17, -4.25020447e-17,  1.00000000e+00,\n",
       "          6.80083315e-17],\n",
       "        [-2.43983702e-16, -1.94040476e-17, -8.77565777e-17,\n",
       "          1.00000000e+00]])"
      ]
     },
     "execution_count": 8,
     "metadata": {},
     "output_type": "execute_result"
    }
   ],
   "source": [
    "rand_mat*inv_rand_mat#结果应该是单位矩阵"
   ]
  },
  {
   "cell_type": "code",
   "execution_count": 9,
   "metadata": {},
   "outputs": [
    {
     "data": {
      "text/plain": [
       "matrix([[-2.22044605e-16, -5.70411697e-17,  1.02151262e-16,\n",
       "          8.25460785e-17],\n",
       "        [-2.01325111e-16,  0.00000000e+00, -2.79074668e-17,\n",
       "          7.02431385e-17],\n",
       "        [-2.72513585e-17, -4.25020447e-17,  0.00000000e+00,\n",
       "          6.80083315e-17],\n",
       "        [-2.43983702e-16, -1.94040476e-17, -8.77565777e-17,\n",
       "          0.00000000e+00]])"
      ]
     },
     "execution_count": 9,
     "metadata": {},
     "output_type": "execute_result"
    }
   ],
   "source": [
    "my_eye=rand_mat*inv_rand_mat\n",
    "my_eye-eye(4) #应为全0"
   ]
  }
 ],
 "metadata": {
  "kernelspec": {
   "display_name": "tensorflow",
   "language": "python",
   "name": "tensorflow"
  },
  "language_info": {
   "codemirror_mode": {
    "name": "ipython",
    "version": 3
   },
   "file_extension": ".py",
   "mimetype": "text/x-python",
   "name": "python",
   "nbconvert_exporter": "python",
   "pygments_lexer": "ipython3",
   "version": "3.6.7"
  }
 },
 "nbformat": 4,
 "nbformat_minor": 2
}
